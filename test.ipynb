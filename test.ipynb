{
 "cells": [
  {
   "cell_type": "code",
   "execution_count": 1,
   "metadata": {},
   "outputs": [],
   "source": [
    "def policiePi(self, state):\n",
    "    # maximise la somme des récompenses\n",
    "    pass\n",
    "\n",
    "def Q_value_fun(self, state, action):\n",
    "    # Q(s,a) = r + gamma * max(Q(s',a'))\n",
    "    pass\n",
    "\n",
    "def value_fun(self, state):\n",
    "    # V(s) = max(Q(s,a))\n",
    "    pass\n",
    "\n",
    "def bellman_eq(self, state, action):\n",
    "    # Q(s,a) = r + gamma * V(s')\n",
    "    pass\n",
    "\n"
   ]
  },
  {
   "cell_type": "code",
   "execution_count": 2,
   "metadata": {},
   "outputs": [],
   "source": [
    "modelPath = r\".\\src\\GridWorld\\model\\\\\"\n",
    "currModelPath =lambda num_episode : modelPath + \"GWDeepQlearning\" + \"-\" + str(3495) + \".pth\"\n"
   ]
  },
  {
   "cell_type": "code",
   "execution_count": 3,
   "metadata": {},
   "outputs": [
    {
     "name": "stdout",
     "output_type": "stream",
     "text": [
      "torch.Size([7, 104])\n",
      "torch.Size([7])\n",
      "torch.Size([5, 7])\n",
      "torch.Size([5])\n"
     ]
    }
   ],
   "source": [
    "import torch\n",
    "modelPath = r\".\\src\\GridWorld\\model\\\\\"\n",
    "ModelPath =lambda num_episode :  modelPath + \"GWDeepQlearning\" + \"-\" + str(num_episode) + \".pth\"\n",
    "pth_model = torch.load(ModelPath(1000))\n",
    "print(pth_model['0.weight'].shape)\n",
    "print(pth_model['0.bias'].shape)\n",
    "print(pth_model['2.weight'].shape)\n",
    "print(pth_model['2.bias'].shape)"
   ]
  },
  {
   "cell_type": "code",
   "execution_count": 8,
   "metadata": {},
   "outputs": [
    {
     "data": {
      "text/plain": [
       "<All keys matched successfully>"
      ]
     },
     "execution_count": 8,
     "metadata": {},
     "output_type": "execute_result"
    }
   ],
   "source": [
    "import torch.nn as nn\n",
    "import torch.optim as optim\n",
    "input_shape = (25 + 1) * 4\n",
    "hidden_dim = \n",
    "action_to_int = {\n",
    "            (0, -1): 0, \n",
    "            (0, 1): 1, \n",
    "            (1, 0): 2, \n",
    "            (-1, 0): 3, \n",
    "            (0, 0): 4 \n",
    "        }\n",
    "model = nn.Sequential(\n",
    "            nn.Linear(input_shape, hidden_dim),\n",
    "            nn.ReLU(),\n",
    "            nn.Linear(hidden_dim, len(action_to_int))\n",
    "        )\n",
    "model.load_state_dict(torch.load(ModelPath(10000)))"
   ]
  },
  {
   "cell_type": "code",
   "execution_count": 10,
   "metadata": {},
   "outputs": [],
   "source": [
    "import random\n",
    "import numpy as np\n",
    "\n",
    "def call(self, state):\n",
    "        state = self._process_state(state)\n",
    "        if random.random() < self.epsilon:  # exploration \n",
    "            action =  random.choice(range(len(self.action_to_int)))\n",
    "            return self.action_to_list[action]\n",
    "        q_values = self.model(state) # policy\n",
    "        action_index = np.argmax(q_values.detach().numpy())\n",
    "        action = list(self.action_to_list)[action_index]\n",
    "        action = self.action_to_list[action]\n",
    "        return action"
   ]
  },
  {
   "cell_type": "code",
   "execution_count": 13,
   "metadata": {},
   "outputs": [
    {
     "ename": "ModuleNotFoundError",
     "evalue": "No module named 'Agent'",
     "output_type": "error",
     "traceback": [
      "\u001b[1;31m---------------------------------------------------------------------------\u001b[0m",
      "\u001b[1;31mModuleNotFoundError\u001b[0m                       Traceback (most recent call last)",
      "\u001b[1;32mc:\\Users\\zacha\\Documents\\ProjetGit\\QLearningFromScratch\\test.ipynb Cell 6\u001b[0m line \u001b[0;36m1\n\u001b[1;32m----> <a href='vscode-notebook-cell:/c%3A/Users/zacha/Documents/ProjetGit/QLearningFromScratch/test.ipynb#X10sZmlsZQ%3D%3D?line=0'>1</a>\u001b[0m \u001b[39mfrom\u001b[39;00m \u001b[39msrc\u001b[39;00m\u001b[39m.\u001b[39;00m\u001b[39mGridWorld\u001b[39;00m\u001b[39m.\u001b[39;00m\u001b[39mGWAgent\u001b[39;00m \u001b[39mimport\u001b[39;00m GridWorldAgent\n\u001b[0;32m      <a href='vscode-notebook-cell:/c%3A/Users/zacha/Documents/ProjetGit/QLearningFromScratch/test.ipynb#X10sZmlsZQ%3D%3D?line=1'>2</a>\u001b[0m \u001b[39mfrom\u001b[39;00m \u001b[39msrc\u001b[39;00m\u001b[39m.\u001b[39;00m\u001b[39mGridWorld\u001b[39;00m\u001b[39m.\u001b[39;00m\u001b[39mGWEnvironnement\u001b[39;00m \u001b[39mimport\u001b[39;00m GWEnvironnement\n\u001b[0;32m      <a href='vscode-notebook-cell:/c%3A/Users/zacha/Documents/ProjetGit/QLearningFromScratch/test.ipynb#X10sZmlsZQ%3D%3D?line=2'>3</a>\u001b[0m \u001b[39mfrom\u001b[39;00m \u001b[39msrc\u001b[39;00m\u001b[39m.\u001b[39;00m\u001b[39mmarkovchaine\u001b[39;00m \u001b[39mimport\u001b[39;00m MarkovChain\n",
      "File \u001b[1;32mc:\\Users\\zacha\\Documents\\ProjetGit\\QLearningFromScratch\\src\\GridWorld\\GWAgent.py:1\u001b[0m\n\u001b[1;32m----> 1\u001b[0m \u001b[39mfrom\u001b[39;00m \u001b[39mAgent\u001b[39;00m \u001b[39mimport\u001b[39;00m Agent\n\u001b[0;32m      2\u001b[0m \u001b[39mimport\u001b[39;00m \u001b[39mnumpy\u001b[39;00m \u001b[39mas\u001b[39;00m \u001b[39mnp\u001b[39;00m\n\u001b[0;32m      3\u001b[0m \u001b[39mfrom\u001b[39;00m \u001b[39mGWQlearning\u001b[39;00m \u001b[39mimport\u001b[39;00m GWDeepQlearning\n",
      "\u001b[1;31mModuleNotFoundError\u001b[0m: No module named 'Agent'"
     ]
    }
   ],
   "source": [
    "from src.GridWorld.GWAgent import GridWorldAgent\n",
    "from src.GridWorld.GWEnvironnement import GWEnvironnement\n",
    "from src.markovchaine import MarkovChain\n",
    "from src.GridWorld import GWEntities\n",
    "\n",
    "grid_shape = (5,5)\n",
    "entity_list = [\n",
    "    GWEntities.Agent((0,0)),\n",
    "    GWEntities.Goal((4,4)),\n",
    "    GWEntities.Wall((3,2)),\n",
    "    GWEntities.Wall((4,2)),\n",
    "    GWEntities.Wall((1,4)),\n",
    "    GWEntities.Wall((3,1)),\n",
    "    GWEntities.Trap((3,3)),\n",
    "]\n",
    "env = GWEnvironnement(grid_shape,entity_list)"
   ]
  },
  {
   "cell_type": "code",
   "execution_count": null,
   "metadata": {},
   "outputs": [],
   "source": []
  }
 ],
 "metadata": {
  "kernelspec": {
   "display_name": "venv",
   "language": "python",
   "name": "python3"
  },
  "language_info": {
   "codemirror_mode": {
    "name": "ipython",
    "version": 3
   },
   "file_extension": ".py",
   "mimetype": "text/x-python",
   "name": "python",
   "nbconvert_exporter": "python",
   "pygments_lexer": "ipython3",
   "version": "3.11.5"
  }
 },
 "nbformat": 4,
 "nbformat_minor": 2
}
