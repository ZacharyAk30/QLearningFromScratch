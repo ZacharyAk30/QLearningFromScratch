{
 "cells": [
  {
   "cell_type": "code",
   "execution_count": null,
   "metadata": {},
   "outputs": [],
   "source": [
    "def policiePi(self, state):\n",
    "    # maximise la somme des récompenses\n",
    "    pass\n",
    "\n",
    "def Q_value_fun(self, state, action):\n",
    "    # Q(s,a) = r + gamma * max(Q(s',a'))\n",
    "    pass\n",
    "\n",
    "def value_fun(self, state):\n",
    "    # V(s) = max(Q(s,a))\n",
    "    pass\n",
    "\n",
    "def bellman_eq(self, state, action):\n",
    "    # Q(s,a) = r + gamma * V(s')\n",
    "    pass\n",
    "\n"
   ]
  }
 ],
 "metadata": {
  "kernelspec": {
   "display_name": "venv",
   "language": "python",
   "name": "python3"
  },
  "language_info": {
   "codemirror_mode": {
    "name": "ipython",
    "version": 3
   },
   "file_extension": ".py",
   "mimetype": "text/x-python",
   "name": "python",
   "nbconvert_exporter": "python",
   "pygments_lexer": "ipython3",
   "version": "3.11.5"
  }
 },
 "nbformat": 4,
 "nbformat_minor": 2
}
