{
 "cells": [
  {
   "cell_type": "code",
   "execution_count": 64,
   "metadata": {},
   "outputs": [],
   "source": [
    "from GridWorld.GWAgent import GridWorldAgent\n",
    "from GridWorld.GWEnvironnement import GWEnvironnement\n",
    "from markovchaine import MarkovChain\n",
    "from GridWorld import GWEntities\n",
    "\n",
    "recapPath = r\".\\GridWorld\\recap\\\\\"\n",
    "modelPath = r\".\\GridWorld\\model\\\\\"\n",
    "\n",
    "currRecapPath = lambda num_ep : recapPath + \"recap\" + \"-\" + str(num_ep) + \".txt\"\n",
    "currModelPath = lambda num_ep : modelPath + \"GWDeepQlearning\" + \"-\" + str(num_ep) + \".pth\"\n",
    "\n",
    "grid_shape = (5,5)\n",
    "entity_list = [\n",
    "    GWEntities.Agent((0,0)),\n",
    "    GWEntities.Goal((4,4)),\n",
    "    GWEntities.Wall((3,2)),\n",
    "    GWEntities.Wall((4,2)),\n",
    "    GWEntities.Wall((1,4)),\n",
    "    GWEntities.Wall((3,1)),\n",
    "    GWEntities.Trap((3,3)),\n",
    "]\n",
    "env = GWEnvironnement(grid_shape,entity_list)\n",
    "agent = GridWorldAgent(grid_size=grid_shape,num_entities=len(entity_list),policy=\"Qlearning\",epsilon=0.01)\n",
    "ModelPath = currModelPath(35000)\n"
   ]
  },
  {
   "cell_type": "code",
   "execution_count": 65,
   "metadata": {},
   "outputs": [],
   "source": [
    "agent.GWDeepQlearning.load_model(ModelPath)"
   ]
  },
  {
   "cell_type": "code",
   "execution_count": 74,
   "metadata": {},
   "outputs": [
    {
     "name": "stdout",
     "output_type": "stream",
     "text": [
      " .  .  .  .  . \n",
      " .  A  .  .  W \n",
      " .  .  .  .  . \n",
      " .  W  W  T  . \n",
      " .  .  W  .  G \n",
      "\n"
     ]
    }
   ],
   "source": [
    "grid_shape = (5,5)\n",
    "entity_list = [\n",
    "    GWEntities.Agent((1,1)),\n",
    "    GWEntities.Goal((4,4)),\n",
    "    GWEntities.Wall((3,2)),\n",
    "    GWEntities.Wall((4,2)),\n",
    "    GWEntities.Wall((1,4)),\n",
    "    GWEntities.Wall((3,1)),\n",
    "    GWEntities.Trap((3,3)),\n",
    "]\n",
    "env = GWEnvironnement(grid_shape,entity_list)\n",
    "print(env.render())\n",
    "state = env.getState()"
   ]
  },
  {
   "cell_type": "code",
   "execution_count": 75,
   "metadata": {},
   "outputs": [
    {
     "data": {
      "text/plain": [
       "[0, 0]"
      ]
     },
     "execution_count": 75,
     "metadata": {},
     "output_type": "execute_result"
    }
   ],
   "source": [
    "agent.GWDeepQlearning(state)"
   ]
  }
 ],
 "metadata": {
  "kernelspec": {
   "display_name": "venv",
   "language": "python",
   "name": "python3"
  },
  "language_info": {
   "codemirror_mode": {
    "name": "ipython",
    "version": 3
   },
   "file_extension": ".py",
   "mimetype": "text/x-python",
   "name": "python",
   "nbconvert_exporter": "python",
   "pygments_lexer": "ipython3",
   "version": "3.11.5"
  }
 },
 "nbformat": 4,
 "nbformat_minor": 2
}
