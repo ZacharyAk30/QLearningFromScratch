{
 "cells": [
  {
   "cell_type": "code",
   "execution_count": null,
   "metadata": {},
   "outputs": [],
   "source": [
    "# import os\n",
    "\n",
    "# recapPath = r\".\\GridWorld\\recap\\\\\"\n",
    "# modelPath = r\".\\GridWorld\\model\\\\\"\n",
    "\n",
    "# currRecapPath = lambda num_ep : recapPath + \"recap\" + \"-\" + str(num_ep) + \".txt\"\n",
    "# currModelPath = lambda num_ep : modelPath + \"GWDeepQlearning\" + \"-\" + str(num_ep) + \".pth\"\n",
    "\n",
    "# # Clear all files in recapPath\n",
    "# for filename in os.listdir(recapPath):\n",
    "#     file_path = os.path.join(recapPath, filename)\n",
    "#     try:\n",
    "#         if os.path.isfile(file_path) and filename.startswith(\"recap\"):\n",
    "#             os.unlink(file_path)\n",
    "#     except Exception as e:\n",
    "#         print(f\"Failed to delete {file_path}. Reason: {e}\")\n",
    "\n",
    "# # Clear all files in modelPath\n",
    "# for filename in os.listdir(modelPath):\n",
    "#     file_path = os.path.join(modelPath, filename)\n",
    "#     try:\n",
    "#         if os.path.isfile(file_path) and filename.startswith(\"GWDeepQlearning\"):\n",
    "#             os.unlink(file_path)\n",
    "#     except Exception as e:\n",
    "#         print(f\"Failed to delete {file_path}. Reason: {e}\")\n"
   ]
  },
  {
   "cell_type": "code",
   "execution_count": 1,
   "metadata": {},
   "outputs": [],
   "source": [
    "from GridWorld.GWAgent import GridWorldAgent\n",
    "from GridWorld.GWEnvironnement import GWEnvironnement\n",
    "from markovchaine import MarkovChain\n",
    "from GridWorld import GWEntities\n",
    "\n",
    "recapPath = r\".\\GridWorld\\recap\\\\\"\n",
    "modelPath = r\".\\GridWorld\\model\\\\\"\n",
    "\n",
    "currRecapPath = lambda num_ep : recapPath + \"recap\" + \"-\" + str(num_ep) + \".txt\"\n",
    "currModelPath = lambda num_ep : modelPath + \"GWDeepQlearning\" + \"-\" + str(num_ep) + \".pth\"\n",
    "\n",
    "grid_shape = (5,5)\n",
    "entity_list = [\n",
    "    GWEntities.Agent((0,0)),\n",
    "    GWEntities.Goal((4,4)),\n",
    "    GWEntities.Wall((3,2)),\n",
    "    GWEntities.Wall((4,2)),\n",
    "    GWEntities.Wall((1,4)),\n",
    "    GWEntities.Wall((3,1)),\n",
    "    GWEntities.Trap((3,3)),\n",
    "]\n",
    "env = GWEnvironnement(grid_shape,entity_list)\n",
    "agent = GridWorldAgent(grid_size=grid_shape,num_entities=len(entity_list),policy=\"Qlearning\",epsilon=0.01)\n",
    "ModelPath = currModelPath(9100)\n"
   ]
  },
  {
   "cell_type": "code",
   "execution_count": 2,
   "metadata": {},
   "outputs": [],
   "source": [
    "agent.GWDeepQlearning.load_model(ModelPath)"
   ]
  },
  {
   "cell_type": "code",
   "execution_count": 47,
   "metadata": {},
   "outputs": [
    {
     "name": "stdout",
     "output_type": "stream",
     "text": [
      " .  .  .  .  . \n",
      " A  .  .  .  W \n",
      " .  .  .  .  . \n",
      " .  W  W  T  . \n",
      " .  .  W  .  G \n",
      "\n"
     ]
    }
   ],
   "source": [
    "grid_shape = (5,5)\n",
    "entity_list = [\n",
    "    GWEntities.Agent((1,0)),\n",
    "    GWEntities.Goal((4,4)),\n",
    "    GWEntities.Wall((3,2)),\n",
    "    GWEntities.Wall((4,2)),\n",
    "    GWEntities.Wall((1,4)),\n",
    "    GWEntities.Wall((3,1)),\n",
    "    GWEntities.Trap((3,3)),\n",
    "]\n",
    "env = GWEnvironnement(grid_shape,entity_list)\n",
    "print(env.render())\n",
    "state = env.getState()"
   ]
  },
  {
   "cell_type": "code",
   "execution_count": 45,
   "metadata": {},
   "outputs": [
    {
     "data": {
      "text/plain": [
       "[1, 0]"
      ]
     },
     "execution_count": 45,
     "metadata": {},
     "output_type": "execute_result"
    }
   ],
   "source": [
    "agent.GWDeepQlearning(state)"
   ]
  },
  {
   "cell_type": "code",
   "execution_count": 60,
   "metadata": {},
   "outputs": [],
   "source": [
    "def print_grid_to_file(grid, file):\n",
    "    for row in grid:\n",
    "        file.write(' '.join(word.ljust(5) for word in row) + '\\n')\n",
    "\n",
    "with open('output.txt', 'a') as f:\n",
    "    for k in range(9186,9896):\n",
    "        ModelPath = currModelPath(i)\n",
    "        agent.GWDeepQlearning.load_model(ModelPath)\n",
    "        ActionSet = {\n",
    "            (0, -1): \"left\",\n",
    "            (0, 1) : \"right\" ,\n",
    "            (1, 0) : \"down\" ,\n",
    "            (-1, 0):\"up\",\n",
    "        }\n",
    "        action_to_string = lambda x : ActionSet[(x[0],x[1])]\n",
    "        word = [list(i.replace(\" \",\"\")) for i in env.render().split(\"\\n\")]\n",
    "        for i in range(5):\n",
    "            for j in range(5):\n",
    "                if [i,j] not in [[4,4] , [3,2] , [4,2] , [1,4] , [3,1] , [3,3]]:\n",
    "                    grid_shape = (5,5)\n",
    "                    entity_list = [\n",
    "                        GWEntities.Agent((i,j)),\n",
    "                        GWEntities.Goal((4,4)),\n",
    "                        GWEntities.Wall((3,2)),\n",
    "                        GWEntities.Wall((4,2)),\n",
    "                        GWEntities.Wall((1,4)),\n",
    "                        GWEntities.Wall((3,1)),\n",
    "                        GWEntities.Trap((3,3)),\n",
    "                    ]\n",
    "                    env = GWEnvironnement(grid_shape,entity_list)\n",
    "                    state = env.getState()\n",
    "                    action = agent.GWDeepQlearning(state)\n",
    "                    action = action_to_string(action)\n",
    "                    word[i][j] = action\n",
    "        f.write(f\"ep {k}\\n\")\n",
    "        print_grid_to_file(word, f)"
   ]
  }
 ],
 "metadata": {
  "kernelspec": {
   "display_name": "venv",
   "language": "python",
   "name": "python3"
  },
  "language_info": {
   "codemirror_mode": {
    "name": "ipython",
    "version": 3
   },
   "file_extension": ".py",
   "mimetype": "text/x-python",
   "name": "python",
   "nbconvert_exporter": "python",
   "pygments_lexer": "ipython3",
   "version": "3.11.5"
  }
 },
 "nbformat": 4,
 "nbformat_minor": 2
}
